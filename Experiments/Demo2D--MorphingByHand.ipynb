{
 "cells": [
  {
   "cell_type": "markdown",
   "id": "d942f97e",
   "metadata": {},
   "source": [
    "### Morph a 2D lattice yourself by changing its parameters"
   ]
  },
  {
   "cell_type": "code",
   "execution_count": null,
   "id": "55e06eab",
   "metadata": {},
   "outputs": [],
   "source": [
    "from ipywidgets import interact\n",
    "import ipywidgets as widgets\n",
    "\n",
    "import matplotlib.pyplot as plt\n",
    "%matplotlib inline\n",
    "\n",
    "import numpy as np\n",
    "import seaborn as sns\n",
    "from LattyMorph.morphing import create_flat_2D_sheet\n",
    "\n",
    "lattice = create_flat_2D_sheet(2,2)"
   ]
  },
  {
   "cell_type": "code",
   "execution_count": 2,
   "id": "eaaa6d77",
   "metadata": {},
   "outputs": [
    {
     "data": {
      "application/vnd.jupyter.widget-view+json": {
       "model_id": "77ac4ea9b0f0459fa112945e09c2d092",
       "version_major": 2,
       "version_minor": 0
      },
      "text/plain": [
       "interactive(children=(FloatSlider(value=0.0, description='cell00_phi', max=1.0, min=-1.0, step=0.001), FloatSl…"
      ]
     },
     "metadata": {},
     "output_type": "display_data"
    },
    {
     "data": {
      "text/plain": [
       "<function __main__.plot_func(cell00_phi, cell00_phiP, cell01_phi, cell10_phiP, cell00_theta, cell00_thetaP, cell01_theta, cell10_theta, cell10_thetaP, cell11_theta)>"
      ]
     },
     "execution_count": 2,
     "metadata": {},
     "output_type": "execute_result"
    }
   ],
   "source": [
    "old_vars = []\n",
    "\n",
    "def plot_func(cell00_phi, cell00_phiP, cell01_phi, cell10_phiP, cell00_theta, cell00_thetaP, cell01_theta, cell10_theta, cell10_thetaP, cell11_theta):\n",
    "    lattice.config[0][0]['phi'].data[0] = cell00_phi*np.pi\n",
    "    lattice.config[0][0]['theta'].data[0] = cell00_theta*np.pi\n",
    "    lattice.config[0][0]['phiPrime'].data[0] = cell00_phiP*np.pi\n",
    "    lattice.config[0][0]['thetaPrime'].data[0] = cell00_thetaP*np.pi\n",
    "    \n",
    "    lattice.config[0][1]['phi'].data[0] = cell01_phi*np.pi\n",
    "    lattice.config[0][1]['theta'].data[0] = cell01_theta*np.pi\n",
    "    \n",
    "    lattice.config[1][0]['phiPrime'].data[0] = cell10_phiP*np.pi\n",
    "    lattice.config[1][0]['theta'].data[0] = cell10_theta*np.pi\n",
    "    lattice.config[1][0]['thetaPrime'].data[0] = cell10_thetaP*np.pi\n",
    "    lattice.config[1][1]['theta'].data[0] = cell11_theta*np.pi\n",
    "    \n",
    "    check = lattice.forward()\n",
    "    if check == True:\n",
    "        global old_vars\n",
    "        old_vars = [cell00_phi, cell00_phiP, cell01_phi, cell10_phiP, cell00_theta, cell00_thetaP, cell01_theta, cell10_theta, cell10_thetaP, cell11_theta]\n",
    "    else:\n",
    "        cell00_phi, cell00_phiP, cell01_phi, cell10_phiP, cell00_theta, cell00_thetaP, cell01_theta, cell10_theta, cell10_thetaP, cell11_theta = old_vars\n",
    "        lattice.config[0][0]['phi'].data[0] = cell00_phi*np.pi\n",
    "        lattice.config[0][0]['theta'].data[0] = cell00_theta*np.pi\n",
    "        lattice.config[0][0]['phiPrime'].data[0] = cell00_phiP*np.pi\n",
    "        lattice.config[0][0]['thetaPrime'].data[0] = cell00_thetaP*np.pi\n",
    "\n",
    "        lattice.config[0][1]['phi'].data[0] = cell01_phi*np.pi\n",
    "        lattice.config[0][1]['theta'].data[0] = cell01_theta*np.pi\n",
    "\n",
    "        lattice.config[1][0]['phiPrime'].data[0] = cell10_phiP*np.pi\n",
    "        lattice.config[1][0]['theta'].data[0] = cell10_theta*np.pi\n",
    "        lattice.config[1][0]['thetaPrime'].data[0] = cell10_thetaP*np.pi\n",
    "        lattice.config[1][1]['theta'].data[0] = cell11_theta*np.pi\n",
    "        \n",
    "        lattice.forward()\n",
    "        \n",
    "    ax = lattice.plot((-.5,2.5), (-.5,2.5))\n",
    "    ax.set_xticks([])\n",
    "    ax.set_yticks([])\n",
    "    sns.despine(ax=ax, bottom=True, top=True,left=True,right=True)\n",
    "    \n",
    "interact(plot_func, \n",
    "        cell01_theta = widgets.FloatSlider(value=0.5,\n",
    "                                               min=0,\n",
    "                                               max=1,\n",
    "                                               step=0.001),\n",
    "        cell00_phi = widgets.FloatSlider(value=0.,\n",
    "                                               min=-1,\n",
    "                                               max=1,\n",
    "                                               step=0.001),\n",
    "        cell00_phiP = widgets.FloatSlider(value=0.,\n",
    "                                               min=-1,\n",
    "                                               max=1,\n",
    "                                               step=0.001),\n",
    "        cell01_phi = widgets.FloatSlider(value=0.,\n",
    "                                               min=-1,\n",
    "                                               max=1,\n",
    "                                               step=0.001),\n",
    "        cell00_theta = widgets.FloatSlider(value=0.5,\n",
    "                                               min=0,\n",
    "                                               max=1,\n",
    "                                               step=0.001),\n",
    "        cell00_thetaP = widgets.FloatSlider(value=0.5,\n",
    "                                               min=0,\n",
    "                                               max=1,\n",
    "                                               step=0.001),\n",
    "        cell10_phiP = widgets.FloatSlider(value=0.,\n",
    "                                               min=-1,\n",
    "                                               max=1,\n",
    "                                               step=0.001),\n",
    "        cell10_theta = widgets.FloatSlider(value=0.5,\n",
    "                                               min=0,\n",
    "                                               max=1,\n",
    "                                               step=0.001),\n",
    "        cell10_thetaP = widgets.FloatSlider(value=0.5,\n",
    "                                               min=0,\n",
    "                                               max=1,\n",
    "                                               step=0.001),\n",
    "        cell11_theta = widgets.FloatSlider(value=0.5,\n",
    "                                               min=0,\n",
    "                                               max=1,\n",
    "                                               step=0.001)\n",
    "        )"
   ]
  },
  {
   "cell_type": "code",
   "execution_count": null,
   "id": "77abac05-115c-44c2-81da-6d42748c58f0",
   "metadata": {},
   "outputs": [],
   "source": []
  }
 ],
 "metadata": {
  "kernelspec": {
   "display_name": "Python 3 (ipykernel)",
   "language": "python",
   "name": "python3"
  },
  "language_info": {
   "codemirror_mode": {
    "name": "ipython",
    "version": 3
   },
   "file_extension": ".py",
   "mimetype": "text/x-python",
   "name": "python",
   "nbconvert_exporter": "python",
   "pygments_lexer": "ipython3",
   "version": "3.8.8"
  }
 },
 "nbformat": 4,
 "nbformat_minor": 5
}
